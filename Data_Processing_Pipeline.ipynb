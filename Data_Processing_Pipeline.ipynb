{
 "cells": [
  {
   "cell_type": "markdown",
   "metadata": {
    "application/vnd.databricks.v1+cell": {
     "cellMetadata": {},
     "inputWidgets": {},
     "nuid": "aaf8884b-3a13-4235-8e80-727d7a43cdb0",
     "showTitle": false,
     "tableResultSettingsMap": {},
     "title": ""
    }
   },
   "source": [
    "Downloading data files into filesystem used by cluster."
   ]
  },
  {
   "cell_type": "code",
   "execution_count": 0,
   "metadata": {
    "application/vnd.databricks.v1+cell": {
     "cellMetadata": {
      "byteLimit": 2048000,
      "rowLimit": 10000
     },
     "inputWidgets": {},
     "nuid": "949fda3d-0690-42f2-bcba-51d773037dc0",
     "showTitle": false,
     "tableResultSettingsMap": {},
     "title": ""
    }
   },
   "outputs": [
    {
     "name": "stderr",
     "output_type": "stream",
     "text": [
      "rm: cannot remove '/dbfs/delta_lab': No such file or directory\n",
      "--2024-12-06 15:33:45--  https://github.com/MicrosoftLearning/mslearn-databricks/raw/main/data/covid_data.csv\n",
      "Resolving github.com (github.com)... 140.82.114.3\n",
      "Connecting to github.com (github.com)|140.82.114.3|:443... connected.\n",
      "HTTP request sent, awaiting response... 302 Found\n",
      "Location: https://raw.githubusercontent.com/MicrosoftLearning/mslearn-databricks/main/data/covid_data.csv [following]\n",
      "--2024-12-06 15:33:45--  https://raw.githubusercontent.com/MicrosoftLearning/mslearn-databricks/main/data/covid_data.csv\n",
      "Resolving raw.githubusercontent.com (raw.githubusercontent.com)... 185.199.110.133, 185.199.111.133, 185.199.108.133, ...\n",
      "Connecting to raw.githubusercontent.com (raw.githubusercontent.com)|185.199.110.133|:443... connected.\n",
      "HTTP request sent, awaiting response... 200 OK\n",
      "Length: 222235 (217K) [text/plain]\n",
      "Saving to: ‘/dbfs/delta_lab/covid_data.csv’\n",
      "\n",
      "     0K .......... .......... .......... .......... .......... 23% 3.65M 0s\n",
      "    50K .......... .......... .......... .......... .......... 46% 17.0M 0s\n",
      "   100K .......... .......... .......... .......... .......... 69% 17.8M 0s\n",
      "   150K .......... .......... .......... .......... .......... 92% 13.5M 0s\n",
      "   200K .......... .......                                    100% 12.3M=0.02s\n",
      "\n",
      "2024-12-06 15:33:45 (8.85 MB/s) - ‘/dbfs/delta_lab/covid_data.csv’ saved [222235/222235]\n",
      "\n"
     ]
    }
   ],
   "source": [
    " %sh\n",
    " rm -r /dbfs/delta_lab\n",
    " mkdir /dbfs/delta_lab\n",
    " wget -O /dbfs/delta_lab/covid_data.csv https://github.com/MicrosoftLearning/mslearn-databricks/raw/main/data/covid_data.csv"
   ]
  },
  {
   "cell_type": "markdown",
   "metadata": {},
   "source": [
    " This code defines a Delta Live Table that will be populated by the raw data previously downloaded"
   ]
  },
  {
   "cell_type": "code",
   "execution_count": 0,
   "metadata": {
    "application/vnd.databricks.v1+cell": {
     "cellMetadata": {
      "byteLimit": 2048000,
      "implicitDf": true,
      "rowLimit": 10000
     },
     "inputWidgets": {},
     "nuid": "811a852a-0dca-4af8-88c6-d6adeeb7416f",
     "showTitle": false,
     "tableResultSettingsMap": {},
     "title": ""
    }
   },
   "outputs": [
    {
     "data": {
      "text/html": [
       "\n",
       "<html>\n",
       "  <style>\n",
       "<style>\n",
       "      html {\n",
       "        font-family: -apple-system,BlinkMacSystemFont,Segoe UI,Roboto,Helvetica Neue,Arial,\n",
       "        Noto Sans,sans-serif,Apple Color Emoji,Segoe UI Emoji,Segoe UI Symbol,\n",
       "        Noto Color Emoji,FontAwesome;\n",
       "        font-size: 13;\n",
       "      }\n",
       "\n",
       "      .ansiout {\n",
       "        padding-bottom: 8px;\n",
       "      }\n",
       "\n",
       "      .createPipeline {\n",
       "        background-color: rgb(34, 114, 180);\n",
       "        color: white;\n",
       "        text-decoration: none;\n",
       "        padding: 4px 12px;\n",
       "        border-radius: 4px;\n",
       "        display: inline-block;\n",
       "      }\n",
       "\n",
       "      .createPipeline:hover {\n",
       "        background-color: #195487;\n",
       "      }\n",
       "\n",
       "      .tag {\n",
       "        border: none;\n",
       "        color: rgb(31, 39, 45);\n",
       "        padding: 2px 4px;\n",
       "        font-weight: 600;\n",
       "        background-color: rgba(93, 114, 131, 0.08);\n",
       "        border-radius: 4px;\n",
       "        margin-right: 0;\n",
       "        display: inline-block;\n",
       "        cursor: default;\n",
       "      }\n",
       "\n",
       "      table {\n",
       "        border-collapse: collapse;\n",
       "        font-size: 13px;\n",
       "      }\n",
       "\n",
       "      th {\n",
       "        text-align: left;\n",
       "        background-color: #F2F5F7;\n",
       "        padding-left: 8px;\n",
       "        padding-right: 8px;\n",
       "      }\n",
       "\n",
       "      tr {\n",
       "        border-bottom: solid;\n",
       "        border-bottom-color: #CDDAE5;\n",
       "        border-bottom-width: 1px;\n",
       "      }\n",
       "\n",
       "      td {\n",
       "        padding-left: 8px;\n",
       "        padding-right: 8px;\n",
       "      }\n",
       "\n",
       "      .dlt-label {\n",
       "        font-weight: bold;\n",
       "      }\n",
       "\n",
       "      ul {\n",
       "        list-style: circle;\n",
       "        padding-inline-start: 12px;\n",
       "      }\n",
       "\n",
       "      li {\n",
       "        padding-bottom: 4px;\n",
       "      }\n",
       "</style></style>\n",
       "  \n",
       "<div class=\"ansiout\">\n",
       "<span class='tag'>raw_covid_data</span> is defined as a\n",
       "<span class=\"dlt-label\">Delta Live Tables</span> dataset\n",
       " with schema: \n",
       "</div>\n",
       "\n",
       "  \n",
       "<div class=\"ansiout\">\n",
       "   <table>\n",
       "     <tbody>\n",
       "       <tr>\n",
       "         <th>Name</th>\n",
       "         <th>Type</th>\n",
       "       </tr>\n",
       "       \n",
       "<tr>\n",
       "   <td>Last_Update</td>\n",
       "   <td>date</td>\n",
       "</tr>\n",
       "\n",
       "<tr>\n",
       "   <td>Country_Region</td>\n",
       "   <td>string</td>\n",
       "</tr>\n",
       "\n",
       "<tr>\n",
       "   <td>Confirmed</td>\n",
       "   <td>int</td>\n",
       "</tr>\n",
       "\n",
       "<tr>\n",
       "   <td>Deaths</td>\n",
       "   <td>int</td>\n",
       "</tr>\n",
       "\n",
       "<tr>\n",
       "   <td>Recovered</td>\n",
       "   <td>int</td>\n",
       "</tr>\n",
       "     </tbody>\n",
       "   </table>\n",
       "</div>\n",
       "\n",
       "  <div class =\"ansiout\">\n",
       "    To populate your table you must either:\n",
       "    <ul>\n",
       "      <li>\n",
       "        Run an existing pipeline using the\n",
       "        <span class=\"dlt-label\">Delta Live Tables</span> menu\n",
       "      </li>\n",
       "      <li>\n",
       "        Create a new pipeline: <a class='createPipeline' href=\"?o=2629719756165029#joblist/pipelines/create?initialSource=%2FUsers%2Fashish.garg%40nokia.com%2FData_Processing_Pipeline&redirectNotebookId=4396521256680311\">Create Pipeline</a>\n",
       "      </li>\n",
       "    </ul>\n",
       "  <div>\n",
       "</html>\n"
      ]
     },
     "metadata": {
      "application/vnd.databricks.v1+output": {
       "addedWidgets": {},
       "arguments": {},
       "data": "\n<html>\n  <style>\n<style>\n      html {\n        font-family: -apple-system,BlinkMacSystemFont,Segoe UI,Roboto,Helvetica Neue,Arial,\n        Noto Sans,sans-serif,Apple Color Emoji,Segoe UI Emoji,Segoe UI Symbol,\n        Noto Color Emoji,FontAwesome;\n        font-size: 13;\n      }\n\n      .ansiout {\n        padding-bottom: 8px;\n      }\n\n      .createPipeline {\n        background-color: rgb(34, 114, 180);\n        color: white;\n        text-decoration: none;\n        padding: 4px 12px;\n        border-radius: 4px;\n        display: inline-block;\n      }\n\n      .createPipeline:hover {\n        background-color: #195487;\n      }\n\n      .tag {\n        border: none;\n        color: rgb(31, 39, 45);\n        padding: 2px 4px;\n        font-weight: 600;\n        background-color: rgba(93, 114, 131, 0.08);\n        border-radius: 4px;\n        margin-right: 0;\n        display: inline-block;\n        cursor: default;\n      }\n\n      table {\n        border-collapse: collapse;\n        font-size: 13px;\n      }\n\n      th {\n        text-align: left;\n        background-color: #F2F5F7;\n        padding-left: 8px;\n        padding-right: 8px;\n      }\n\n      tr {\n        border-bottom: solid;\n        border-bottom-color: #CDDAE5;\n        border-bottom-width: 1px;\n      }\n\n      td {\n        padding-left: 8px;\n        padding-right: 8px;\n      }\n\n      .dlt-label {\n        font-weight: bold;\n      }\n\n      ul {\n        list-style: circle;\n        padding-inline-start: 12px;\n      }\n\n      li {\n        padding-bottom: 4px;\n      }\n</style></style>\n  \n<div class=\"ansiout\">\n<span class='tag'>raw_covid_data</span> is defined as a\n<span class=\"dlt-label\">Delta Live Tables</span> dataset\n with schema: \n</div>\n\n  \n<div class=\"ansiout\">\n   <table>\n     <tbody>\n       <tr>\n         <th>Name</th>\n         <th>Type</th>\n       </tr>\n       \n<tr>\n   <td>Last_Update</td>\n   <td>date</td>\n</tr>\n\n<tr>\n   <td>Country_Region</td>\n   <td>string</td>\n</tr>\n\n<tr>\n   <td>Confirmed</td>\n   <td>int</td>\n</tr>\n\n<tr>\n   <td>Deaths</td>\n   <td>int</td>\n</tr>\n\n<tr>\n   <td>Recovered</td>\n   <td>int</td>\n</tr>\n     </tbody>\n   </table>\n</div>\n\n  <div class =\"ansiout\">\n    To populate your table you must either:\n    <ul>\n      <li>\n        Run an existing pipeline using the\n        <span class=\"dlt-label\">Delta Live Tables</span> menu\n      </li>\n      <li>\n        Create a new pipeline: <a class='createPipeline' href=\"?o=2629719756165029#joblist/pipelines/create?initialSource=%2FUsers%2Fashish.garg%40nokia.com%2FData_Processing_Pipeline&redirectNotebookId=4396521256680311\">Create Pipeline</a>\n      </li>\n    </ul>\n  <div>\n</html>\n",
       "datasetInfos": [],
       "metadata": {
        "dataframeName": null
       },
       "removedWidgets": [],
       "textData": null,
       "type": "htmlSandbox"
      }
     },
     "output_type": "display_data"
    }
   ],
   "source": [
    "%sql\n",
    " CREATE OR REFRESH LIVE TABLE raw_covid_data\n",
    " COMMENT \"COVID sample dataset. This data was ingested from the COVID-19 Data Repository by the Center for Systems Science and Engineering (CSSE) at Johns Hopkins University.\"\n",
    " AS\n",
    " SELECT\n",
    "   Last_Update,\n",
    "   Country_Region,\n",
    "   Confirmed,\n",
    "   Deaths,\n",
    "   Recovered\n",
    " FROM read_files('dbfs:/delta_lab/covid_data.csv', format => 'csv', header => true)"
   ]
  },
  {
   "cell_type": "markdown",
   "metadata": {},
   "source": [
    "The following code query, filter, and format the data from the previous table before analysis.\n"
   ]
  },
  {
   "cell_type": "code",
   "execution_count": 0,
   "metadata": {
    "application/vnd.databricks.v1+cell": {
     "cellMetadata": {
      "byteLimit": 2048000,
      "implicitDf": true,
      "rowLimit": 10000
     },
     "inputWidgets": {},
     "nuid": "a30a2520-390d-40b8-a73a-60b8a6e96be7",
     "showTitle": false,
     "tableResultSettingsMap": {},
     "title": ""
    }
   },
   "outputs": [
    {
     "data": {
      "text/html": [
       "\n",
       "<html>\n",
       "  <style>\n",
       "<style>\n",
       "      html {\n",
       "        font-family: -apple-system,BlinkMacSystemFont,Segoe UI,Roboto,Helvetica Neue,Arial,\n",
       "        Noto Sans,sans-serif,Apple Color Emoji,Segoe UI Emoji,Segoe UI Symbol,\n",
       "        Noto Color Emoji,FontAwesome;\n",
       "        font-size: 13;\n",
       "      }\n",
       "\n",
       "      .ansiout {\n",
       "        padding-bottom: 8px;\n",
       "      }\n",
       "\n",
       "      .createPipeline {\n",
       "        background-color: rgb(34, 114, 180);\n",
       "        color: white;\n",
       "        text-decoration: none;\n",
       "        padding: 4px 12px;\n",
       "        border-radius: 4px;\n",
       "        display: inline-block;\n",
       "      }\n",
       "\n",
       "      .createPipeline:hover {\n",
       "        background-color: #195487;\n",
       "      }\n",
       "\n",
       "      .tag {\n",
       "        border: none;\n",
       "        color: rgb(31, 39, 45);\n",
       "        padding: 2px 4px;\n",
       "        font-weight: 600;\n",
       "        background-color: rgba(93, 114, 131, 0.08);\n",
       "        border-radius: 4px;\n",
       "        margin-right: 0;\n",
       "        display: inline-block;\n",
       "        cursor: default;\n",
       "      }\n",
       "\n",
       "      table {\n",
       "        border-collapse: collapse;\n",
       "        font-size: 13px;\n",
       "      }\n",
       "\n",
       "      th {\n",
       "        text-align: left;\n",
       "        background-color: #F2F5F7;\n",
       "        padding-left: 8px;\n",
       "        padding-right: 8px;\n",
       "      }\n",
       "\n",
       "      tr {\n",
       "        border-bottom: solid;\n",
       "        border-bottom-color: #CDDAE5;\n",
       "        border-bottom-width: 1px;\n",
       "      }\n",
       "\n",
       "      td {\n",
       "        padding-left: 8px;\n",
       "        padding-right: 8px;\n",
       "      }\n",
       "\n",
       "      .dlt-label {\n",
       "        font-weight: bold;\n",
       "      }\n",
       "\n",
       "      ul {\n",
       "        list-style: circle;\n",
       "        padding-inline-start: 12px;\n",
       "      }\n",
       "\n",
       "      li {\n",
       "        padding-bottom: 4px;\n",
       "      }\n",
       "</style></style>\n",
       "  \n",
       "<div class=\"ansiout\">\n",
       "<span class='tag'>processed_covid_data</span> is defined as a\n",
       "<span class=\"dlt-label\">Delta Live Tables</span> dataset\n",
       " with schema: \n",
       "</div>\n",
       "\n",
       "  \n",
       "<div class=\"ansiout\">\n",
       "   <table>\n",
       "     <tbody>\n",
       "       <tr>\n",
       "         <th>Name</th>\n",
       "         <th>Type</th>\n",
       "       </tr>\n",
       "       \n",
       "<tr>\n",
       "   <td>Report_Date</td>\n",
       "   <td>date</td>\n",
       "</tr>\n",
       "\n",
       "<tr>\n",
       "   <td>Country_Region</td>\n",
       "   <td>string</td>\n",
       "</tr>\n",
       "\n",
       "<tr>\n",
       "   <td>Confirmed</td>\n",
       "   <td>int</td>\n",
       "</tr>\n",
       "\n",
       "<tr>\n",
       "   <td>Deaths</td>\n",
       "   <td>int</td>\n",
       "</tr>\n",
       "\n",
       "<tr>\n",
       "   <td>Recovered</td>\n",
       "   <td>int</td>\n",
       "</tr>\n",
       "     </tbody>\n",
       "   </table>\n",
       "</div>\n",
       "\n",
       "  <div class =\"ansiout\">\n",
       "    To populate your table you must either:\n",
       "    <ul>\n",
       "      <li>\n",
       "        Run an existing pipeline using the\n",
       "        <span class=\"dlt-label\">Delta Live Tables</span> menu\n",
       "      </li>\n",
       "      <li>\n",
       "        Create a new pipeline: <a class='createPipeline' href=\"?o=2629719756165029#joblist/pipelines/create?initialSource=%2FUsers%2Fashish.garg%40nokia.com%2FData_Processing_Pipeline&redirectNotebookId=4396521256680311\">Create Pipeline</a>\n",
       "      </li>\n",
       "    </ul>\n",
       "  <div>\n",
       "</html>\n"
      ]
     },
     "metadata": {
      "application/vnd.databricks.v1+output": {
       "addedWidgets": {},
       "arguments": {},
       "data": "\n<html>\n  <style>\n<style>\n      html {\n        font-family: -apple-system,BlinkMacSystemFont,Segoe UI,Roboto,Helvetica Neue,Arial,\n        Noto Sans,sans-serif,Apple Color Emoji,Segoe UI Emoji,Segoe UI Symbol,\n        Noto Color Emoji,FontAwesome;\n        font-size: 13;\n      }\n\n      .ansiout {\n        padding-bottom: 8px;\n      }\n\n      .createPipeline {\n        background-color: rgb(34, 114, 180);\n        color: white;\n        text-decoration: none;\n        padding: 4px 12px;\n        border-radius: 4px;\n        display: inline-block;\n      }\n\n      .createPipeline:hover {\n        background-color: #195487;\n      }\n\n      .tag {\n        border: none;\n        color: rgb(31, 39, 45);\n        padding: 2px 4px;\n        font-weight: 600;\n        background-color: rgba(93, 114, 131, 0.08);\n        border-radius: 4px;\n        margin-right: 0;\n        display: inline-block;\n        cursor: default;\n      }\n\n      table {\n        border-collapse: collapse;\n        font-size: 13px;\n      }\n\n      th {\n        text-align: left;\n        background-color: #F2F5F7;\n        padding-left: 8px;\n        padding-right: 8px;\n      }\n\n      tr {\n        border-bottom: solid;\n        border-bottom-color: #CDDAE5;\n        border-bottom-width: 1px;\n      }\n\n      td {\n        padding-left: 8px;\n        padding-right: 8px;\n      }\n\n      .dlt-label {\n        font-weight: bold;\n      }\n\n      ul {\n        list-style: circle;\n        padding-inline-start: 12px;\n      }\n\n      li {\n        padding-bottom: 4px;\n      }\n</style></style>\n  \n<div class=\"ansiout\">\n<span class='tag'>processed_covid_data</span> is defined as a\n<span class=\"dlt-label\">Delta Live Tables</span> dataset\n with schema: \n</div>\n\n  \n<div class=\"ansiout\">\n   <table>\n     <tbody>\n       <tr>\n         <th>Name</th>\n         <th>Type</th>\n       </tr>\n       \n<tr>\n   <td>Report_Date</td>\n   <td>date</td>\n</tr>\n\n<tr>\n   <td>Country_Region</td>\n   <td>string</td>\n</tr>\n\n<tr>\n   <td>Confirmed</td>\n   <td>int</td>\n</tr>\n\n<tr>\n   <td>Deaths</td>\n   <td>int</td>\n</tr>\n\n<tr>\n   <td>Recovered</td>\n   <td>int</td>\n</tr>\n     </tbody>\n   </table>\n</div>\n\n  <div class =\"ansiout\">\n    To populate your table you must either:\n    <ul>\n      <li>\n        Run an existing pipeline using the\n        <span class=\"dlt-label\">Delta Live Tables</span> menu\n      </li>\n      <li>\n        Create a new pipeline: <a class='createPipeline' href=\"?o=2629719756165029#joblist/pipelines/create?initialSource=%2FUsers%2Fashish.garg%40nokia.com%2FData_Processing_Pipeline&redirectNotebookId=4396521256680311\">Create Pipeline</a>\n      </li>\n    </ul>\n  <div>\n</html>\n",
       "datasetInfos": [],
       "metadata": {
        "dataframeName": null
       },
       "removedWidgets": [],
       "textData": null,
       "type": "htmlSandbox"
      }
     },
     "output_type": "display_data"
    }
   ],
   "source": [
    "%sql\n",
    " CREATE OR REFRESH LIVE TABLE processed_covid_data(\n",
    "   CONSTRAINT valid_country_region EXPECT (Country_Region IS NOT NULL) ON VIOLATION FAIL UPDATE\n",
    " )\n",
    " COMMENT \"Formatted and filtered data for analysis.\"\n",
    " AS\n",
    " SELECT\n",
    "     TO_DATE(Last_Update, 'MM/dd/yyyy') as Report_Date,\n",
    "     Country_Region,\n",
    "     Confirmed,\n",
    "     Deaths,\n",
    "     Recovered\n",
    " FROM live.raw_covid_data;"
   ]
  },
  {
   "cell_type": "markdown",
   "metadata": {},
   "source": [
    "Following code create an enriched data view for further analysis, once the pipeline is successfully executed."
   ]
  },
  {
   "cell_type": "code",
   "execution_count": 0,
   "metadata": {
    "application/vnd.databricks.v1+cell": {
     "cellMetadata": {
      "byteLimit": 2048000,
      "implicitDf": true,
      "rowLimit": 10000
     },
     "inputWidgets": {},
     "nuid": "1714784c-b489-40cd-bfe4-ed0a73f72885",
     "showTitle": false,
     "tableResultSettingsMap": {},
     "title": ""
    }
   },
   "outputs": [
    {
     "data": {
      "text/html": [
       "\n",
       "<html>\n",
       "  <style>\n",
       "<style>\n",
       "      html {\n",
       "        font-family: -apple-system,BlinkMacSystemFont,Segoe UI,Roboto,Helvetica Neue,Arial,\n",
       "        Noto Sans,sans-serif,Apple Color Emoji,Segoe UI Emoji,Segoe UI Symbol,\n",
       "        Noto Color Emoji,FontAwesome;\n",
       "        font-size: 13;\n",
       "      }\n",
       "\n",
       "      .ansiout {\n",
       "        padding-bottom: 8px;\n",
       "      }\n",
       "\n",
       "      .createPipeline {\n",
       "        background-color: rgb(34, 114, 180);\n",
       "        color: white;\n",
       "        text-decoration: none;\n",
       "        padding: 4px 12px;\n",
       "        border-radius: 4px;\n",
       "        display: inline-block;\n",
       "      }\n",
       "\n",
       "      .createPipeline:hover {\n",
       "        background-color: #195487;\n",
       "      }\n",
       "\n",
       "      .tag {\n",
       "        border: none;\n",
       "        color: rgb(31, 39, 45);\n",
       "        padding: 2px 4px;\n",
       "        font-weight: 600;\n",
       "        background-color: rgba(93, 114, 131, 0.08);\n",
       "        border-radius: 4px;\n",
       "        margin-right: 0;\n",
       "        display: inline-block;\n",
       "        cursor: default;\n",
       "      }\n",
       "\n",
       "      table {\n",
       "        border-collapse: collapse;\n",
       "        font-size: 13px;\n",
       "      }\n",
       "\n",
       "      th {\n",
       "        text-align: left;\n",
       "        background-color: #F2F5F7;\n",
       "        padding-left: 8px;\n",
       "        padding-right: 8px;\n",
       "      }\n",
       "\n",
       "      tr {\n",
       "        border-bottom: solid;\n",
       "        border-bottom-color: #CDDAE5;\n",
       "        border-bottom-width: 1px;\n",
       "      }\n",
       "\n",
       "      td {\n",
       "        padding-left: 8px;\n",
       "        padding-right: 8px;\n",
       "      }\n",
       "\n",
       "      .dlt-label {\n",
       "        font-weight: bold;\n",
       "      }\n",
       "\n",
       "      ul {\n",
       "        list-style: circle;\n",
       "        padding-inline-start: 12px;\n",
       "      }\n",
       "\n",
       "      li {\n",
       "        padding-bottom: 4px;\n",
       "      }\n",
       "</style></style>\n",
       "  \n",
       "<div class=\"ansiout\">\n",
       "<span class='tag'>aggregated_covid_data</span> is defined as a\n",
       "<span class=\"dlt-label\">Delta Live Tables</span> dataset\n",
       " with schema: \n",
       "</div>\n",
       "\n",
       "  \n",
       "<div class=\"ansiout\">\n",
       "   <table>\n",
       "     <tbody>\n",
       "       <tr>\n",
       "         <th>Name</th>\n",
       "         <th>Type</th>\n",
       "       </tr>\n",
       "       \n",
       "<tr>\n",
       "   <td>Report_Date</td>\n",
       "   <td>date</td>\n",
       "</tr>\n",
       "\n",
       "<tr>\n",
       "   <td>Total_Confirmed</td>\n",
       "   <td>bigint</td>\n",
       "</tr>\n",
       "\n",
       "<tr>\n",
       "   <td>Total_Deaths</td>\n",
       "   <td>bigint</td>\n",
       "</tr>\n",
       "\n",
       "<tr>\n",
       "   <td>Total_Recovered</td>\n",
       "   <td>bigint</td>\n",
       "</tr>\n",
       "     </tbody>\n",
       "   </table>\n",
       "</div>\n",
       "\n",
       "  <div class =\"ansiout\">\n",
       "    To populate your table you must either:\n",
       "    <ul>\n",
       "      <li>\n",
       "        Run an existing pipeline using the\n",
       "        <span class=\"dlt-label\">Delta Live Tables</span> menu\n",
       "      </li>\n",
       "      <li>\n",
       "        Create a new pipeline: <a class='createPipeline' href=\"?o=2629719756165029#joblist/pipelines/create?initialSource=%2FUsers%2Fashish.garg%40nokia.com%2FData_Processing_Pipeline&redirectNotebookId=4396521256680311\">Create Pipeline</a>\n",
       "      </li>\n",
       "    </ul>\n",
       "  <div>\n",
       "</html>\n"
      ]
     },
     "metadata": {
      "application/vnd.databricks.v1+output": {
       "addedWidgets": {},
       "arguments": {},
       "data": "\n<html>\n  <style>\n<style>\n      html {\n        font-family: -apple-system,BlinkMacSystemFont,Segoe UI,Roboto,Helvetica Neue,Arial,\n        Noto Sans,sans-serif,Apple Color Emoji,Segoe UI Emoji,Segoe UI Symbol,\n        Noto Color Emoji,FontAwesome;\n        font-size: 13;\n      }\n\n      .ansiout {\n        padding-bottom: 8px;\n      }\n\n      .createPipeline {\n        background-color: rgb(34, 114, 180);\n        color: white;\n        text-decoration: none;\n        padding: 4px 12px;\n        border-radius: 4px;\n        display: inline-block;\n      }\n\n      .createPipeline:hover {\n        background-color: #195487;\n      }\n\n      .tag {\n        border: none;\n        color: rgb(31, 39, 45);\n        padding: 2px 4px;\n        font-weight: 600;\n        background-color: rgba(93, 114, 131, 0.08);\n        border-radius: 4px;\n        margin-right: 0;\n        display: inline-block;\n        cursor: default;\n      }\n\n      table {\n        border-collapse: collapse;\n        font-size: 13px;\n      }\n\n      th {\n        text-align: left;\n        background-color: #F2F5F7;\n        padding-left: 8px;\n        padding-right: 8px;\n      }\n\n      tr {\n        border-bottom: solid;\n        border-bottom-color: #CDDAE5;\n        border-bottom-width: 1px;\n      }\n\n      td {\n        padding-left: 8px;\n        padding-right: 8px;\n      }\n\n      .dlt-label {\n        font-weight: bold;\n      }\n\n      ul {\n        list-style: circle;\n        padding-inline-start: 12px;\n      }\n\n      li {\n        padding-bottom: 4px;\n      }\n</style></style>\n  \n<div class=\"ansiout\">\n<span class='tag'>aggregated_covid_data</span> is defined as a\n<span class=\"dlt-label\">Delta Live Tables</span> dataset\n with schema: \n</div>\n\n  \n<div class=\"ansiout\">\n   <table>\n     <tbody>\n       <tr>\n         <th>Name</th>\n         <th>Type</th>\n       </tr>\n       \n<tr>\n   <td>Report_Date</td>\n   <td>date</td>\n</tr>\n\n<tr>\n   <td>Total_Confirmed</td>\n   <td>bigint</td>\n</tr>\n\n<tr>\n   <td>Total_Deaths</td>\n   <td>bigint</td>\n</tr>\n\n<tr>\n   <td>Total_Recovered</td>\n   <td>bigint</td>\n</tr>\n     </tbody>\n   </table>\n</div>\n\n  <div class =\"ansiout\">\n    To populate your table you must either:\n    <ul>\n      <li>\n        Run an existing pipeline using the\n        <span class=\"dlt-label\">Delta Live Tables</span> menu\n      </li>\n      <li>\n        Create a new pipeline: <a class='createPipeline' href=\"?o=2629719756165029#joblist/pipelines/create?initialSource=%2FUsers%2Fashish.garg%40nokia.com%2FData_Processing_Pipeline&redirectNotebookId=4396521256680311\">Create Pipeline</a>\n      </li>\n    </ul>\n  <div>\n</html>\n",
       "datasetInfos": [],
       "metadata": {
        "dataframeName": null
       },
       "removedWidgets": [],
       "textData": null,
       "type": "htmlSandbox"
      }
     },
     "output_type": "display_data"
    }
   ],
   "source": [
    "%sql\n",
    " CREATE OR REFRESH LIVE TABLE aggregated_covid_data\n",
    " COMMENT \"Aggregated daily data for the US with total counts.\"\n",
    " AS\n",
    " SELECT\n",
    "     Report_Date,\n",
    "     sum(Confirmed) as Total_Confirmed,\n",
    "     sum(Deaths) as Total_Deaths,\n",
    "     sum(Recovered) as Total_Recovered\n",
    " FROM live.processed_covid_data\n",
    " GROUP BY Report_Date;"
   ]
  },
  {
   "cell_type": "markdown",
   "metadata": {},
   "source": [
    "Once the pipeline is succsfully execued, all the create new tables can be verified in a storage location with:"
   ]
  },
  {
   "cell_type": "code",
   "execution_count": null,
   "metadata": {},
   "outputs": [],
   "source": [
    " display(dbutils.fs.ls(\"dbfs:/pipelines/delta_lab/tables\"))"
   ]
  },
  {
   "cell_type": "markdown",
   "metadata": {},
   "source": [
    "Result can be viewed as an visualization"
   ]
  },
  {
   "cell_type": "code",
   "execution_count": null,
   "metadata": {},
   "outputs": [],
   "source": [
    "df = spark.read.format(\"delta\").load('/pipelines/delta_lab/tables/aggregated_covid_data')\n",
    "display(df)"
   ]
  },
  {
   "cell_type": "markdown",
   "metadata": {},
   "source": [
    "Certain post actions which can be done are:\n",
    "\n",
    "Above the table of results, select + and then select Visualization to view the visualization editor, and then apply the following options:\n",
    "Visualization type: Line\n",
    "X Column: Report_Date\n",
    "Y Column: Add a new column and select Total_Confirmed. Apply the Sum aggregation.\n",
    "Save the visualization and view the resulting chart in the notebook."
   ]
  }
 ],
 "metadata": {
  "application/vnd.databricks.v1+notebook": {
   "dashboards": [],
   "environmentMetadata": {
    "base_environment": "",
    "client": "1"
   },
   "language": "python",
   "notebookMetadata": {
    "mostRecentlyExecutedCommandWithImplicitDF": {
     "commandId": 4396521256680317,
     "dataframes": [
      "_sqldf"
     ]
    },
    "pythonIndentUnit": 4
   },
   "notebookName": "Data_Processing_Pipeline",
   "widgets": {}
  },
  "language_info": {
   "name": "python"
  }
 },
 "nbformat": 4,
 "nbformat_minor": 0
}
